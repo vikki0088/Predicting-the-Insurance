{
 "cells": [
  {
   "cell_type": "code",
   "execution_count": 141,
   "id": "671c528e",
   "metadata": {},
   "outputs": [],
   "source": [
    "import pandas as pd\n",
    "import numpy as np\n",
    "import seaborn as sns\n",
    "import matplotlib.pyplot as plt\n"
   ]
  },
  {
   "cell_type": "code",
   "execution_count": 142,
   "id": "fa22f495",
   "metadata": {},
   "outputs": [
    {
     "data": {
      "text/html": [
       "<div>\n",
       "<style scoped>\n",
       "    .dataframe tbody tr th:only-of-type {\n",
       "        vertical-align: middle;\n",
       "    }\n",
       "\n",
       "    .dataframe tbody tr th {\n",
       "        vertical-align: top;\n",
       "    }\n",
       "\n",
       "    .dataframe thead th {\n",
       "        text-align: right;\n",
       "    }\n",
       "</style>\n",
       "<table border=\"1\" class=\"dataframe\">\n",
       "  <thead>\n",
       "    <tr style=\"text-align: right;\">\n",
       "      <th></th>\n",
       "      <th>age</th>\n",
       "      <th>sex</th>\n",
       "      <th>bmi</th>\n",
       "      <th>children</th>\n",
       "      <th>smoker</th>\n",
       "      <th>region</th>\n",
       "      <th>charges</th>\n",
       "    </tr>\n",
       "  </thead>\n",
       "  <tbody>\n",
       "    <tr>\n",
       "      <th>0</th>\n",
       "      <td>19</td>\n",
       "      <td>female</td>\n",
       "      <td>27.900</td>\n",
       "      <td>0</td>\n",
       "      <td>yes</td>\n",
       "      <td>southwest</td>\n",
       "      <td>16884.92400</td>\n",
       "    </tr>\n",
       "    <tr>\n",
       "      <th>1</th>\n",
       "      <td>18</td>\n",
       "      <td>male</td>\n",
       "      <td>33.770</td>\n",
       "      <td>1</td>\n",
       "      <td>no</td>\n",
       "      <td>southeast</td>\n",
       "      <td>1725.55230</td>\n",
       "    </tr>\n",
       "    <tr>\n",
       "      <th>2</th>\n",
       "      <td>28</td>\n",
       "      <td>male</td>\n",
       "      <td>33.000</td>\n",
       "      <td>3</td>\n",
       "      <td>no</td>\n",
       "      <td>southeast</td>\n",
       "      <td>4449.46200</td>\n",
       "    </tr>\n",
       "    <tr>\n",
       "      <th>3</th>\n",
       "      <td>33</td>\n",
       "      <td>male</td>\n",
       "      <td>22.705</td>\n",
       "      <td>0</td>\n",
       "      <td>no</td>\n",
       "      <td>northwest</td>\n",
       "      <td>21984.47061</td>\n",
       "    </tr>\n",
       "    <tr>\n",
       "      <th>4</th>\n",
       "      <td>32</td>\n",
       "      <td>male</td>\n",
       "      <td>28.880</td>\n",
       "      <td>0</td>\n",
       "      <td>no</td>\n",
       "      <td>northwest</td>\n",
       "      <td>3866.85520</td>\n",
       "    </tr>\n",
       "    <tr>\n",
       "      <th>...</th>\n",
       "      <td>...</td>\n",
       "      <td>...</td>\n",
       "      <td>...</td>\n",
       "      <td>...</td>\n",
       "      <td>...</td>\n",
       "      <td>...</td>\n",
       "      <td>...</td>\n",
       "    </tr>\n",
       "    <tr>\n",
       "      <th>1333</th>\n",
       "      <td>50</td>\n",
       "      <td>male</td>\n",
       "      <td>30.970</td>\n",
       "      <td>3</td>\n",
       "      <td>no</td>\n",
       "      <td>northwest</td>\n",
       "      <td>10600.54830</td>\n",
       "    </tr>\n",
       "    <tr>\n",
       "      <th>1334</th>\n",
       "      <td>18</td>\n",
       "      <td>female</td>\n",
       "      <td>31.920</td>\n",
       "      <td>0</td>\n",
       "      <td>no</td>\n",
       "      <td>northeast</td>\n",
       "      <td>2205.98080</td>\n",
       "    </tr>\n",
       "    <tr>\n",
       "      <th>1335</th>\n",
       "      <td>18</td>\n",
       "      <td>female</td>\n",
       "      <td>36.850</td>\n",
       "      <td>0</td>\n",
       "      <td>no</td>\n",
       "      <td>southeast</td>\n",
       "      <td>1629.83350</td>\n",
       "    </tr>\n",
       "    <tr>\n",
       "      <th>1336</th>\n",
       "      <td>21</td>\n",
       "      <td>female</td>\n",
       "      <td>25.800</td>\n",
       "      <td>0</td>\n",
       "      <td>no</td>\n",
       "      <td>southwest</td>\n",
       "      <td>2007.94500</td>\n",
       "    </tr>\n",
       "    <tr>\n",
       "      <th>1337</th>\n",
       "      <td>61</td>\n",
       "      <td>female</td>\n",
       "      <td>29.070</td>\n",
       "      <td>0</td>\n",
       "      <td>yes</td>\n",
       "      <td>northwest</td>\n",
       "      <td>29141.36030</td>\n",
       "    </tr>\n",
       "  </tbody>\n",
       "</table>\n",
       "<p>1338 rows × 7 columns</p>\n",
       "</div>"
      ],
      "text/plain": [
       "      age     sex     bmi  children smoker     region      charges\n",
       "0      19  female  27.900         0    yes  southwest  16884.92400\n",
       "1      18    male  33.770         1     no  southeast   1725.55230\n",
       "2      28    male  33.000         3     no  southeast   4449.46200\n",
       "3      33    male  22.705         0     no  northwest  21984.47061\n",
       "4      32    male  28.880         0     no  northwest   3866.85520\n",
       "...   ...     ...     ...       ...    ...        ...          ...\n",
       "1333   50    male  30.970         3     no  northwest  10600.54830\n",
       "1334   18  female  31.920         0     no  northeast   2205.98080\n",
       "1335   18  female  36.850         0     no  southeast   1629.83350\n",
       "1336   21  female  25.800         0     no  southwest   2007.94500\n",
       "1337   61  female  29.070         0    yes  northwest  29141.36030\n",
       "\n",
       "[1338 rows x 7 columns]"
      ]
     },
     "execution_count": 142,
     "metadata": {},
     "output_type": "execute_result"
    }
   ],
   "source": [
    "data = pd.read_csv(\"insurance.csv\")\n",
    "\n",
    "data"
   ]
  },
  {
   "cell_type": "code",
   "execution_count": 143,
   "id": "efa6c0b0",
   "metadata": {},
   "outputs": [
    {
     "name": "stdout",
     "output_type": "stream",
     "text": [
      "<class 'pandas.core.frame.DataFrame'>\n",
      "RangeIndex: 1338 entries, 0 to 1337\n",
      "Data columns (total 7 columns):\n",
      " #   Column    Non-Null Count  Dtype  \n",
      "---  ------    --------------  -----  \n",
      " 0   age       1338 non-null   int64  \n",
      " 1   sex       1338 non-null   object \n",
      " 2   bmi       1338 non-null   float64\n",
      " 3   children  1338 non-null   int64  \n",
      " 4   smoker    1338 non-null   object \n",
      " 5   region    1338 non-null   object \n",
      " 6   charges   1338 non-null   float64\n",
      "dtypes: float64(2), int64(2), object(3)\n",
      "memory usage: 73.3+ KB\n"
     ]
    }
   ],
   "source": [
    "data.info()"
   ]
  },
  {
   "cell_type": "code",
   "execution_count": 144,
   "id": "958c48bf",
   "metadata": {},
   "outputs": [
    {
     "data": {
      "text/plain": [
       "age         0\n",
       "sex         0\n",
       "bmi         0\n",
       "children    0\n",
       "smoker      0\n",
       "region      0\n",
       "charges     0\n",
       "dtype: int64"
      ]
     },
     "execution_count": 144,
     "metadata": {},
     "output_type": "execute_result"
    }
   ],
   "source": [
    "data.isnull().sum()"
   ]
  },
  {
   "cell_type": "code",
   "execution_count": 145,
   "id": "cecfa722",
   "metadata": {},
   "outputs": [
    {
     "data": {
      "text/html": [
       "<div>\n",
       "<style scoped>\n",
       "    .dataframe tbody tr th:only-of-type {\n",
       "        vertical-align: middle;\n",
       "    }\n",
       "\n",
       "    .dataframe tbody tr th {\n",
       "        vertical-align: top;\n",
       "    }\n",
       "\n",
       "    .dataframe thead th {\n",
       "        text-align: right;\n",
       "    }\n",
       "</style>\n",
       "<table border=\"1\" class=\"dataframe\">\n",
       "  <thead>\n",
       "    <tr style=\"text-align: right;\">\n",
       "      <th></th>\n",
       "      <th>age</th>\n",
       "      <th>bmi</th>\n",
       "      <th>children</th>\n",
       "      <th>charges</th>\n",
       "    </tr>\n",
       "  </thead>\n",
       "  <tbody>\n",
       "    <tr>\n",
       "      <th>count</th>\n",
       "      <td>1338.000000</td>\n",
       "      <td>1338.000000</td>\n",
       "      <td>1338.000000</td>\n",
       "      <td>1338.000000</td>\n",
       "    </tr>\n",
       "    <tr>\n",
       "      <th>mean</th>\n",
       "      <td>39.207025</td>\n",
       "      <td>30.663397</td>\n",
       "      <td>1.094918</td>\n",
       "      <td>13270.422265</td>\n",
       "    </tr>\n",
       "    <tr>\n",
       "      <th>std</th>\n",
       "      <td>14.049960</td>\n",
       "      <td>6.098187</td>\n",
       "      <td>1.205493</td>\n",
       "      <td>12110.011237</td>\n",
       "    </tr>\n",
       "    <tr>\n",
       "      <th>min</th>\n",
       "      <td>18.000000</td>\n",
       "      <td>15.960000</td>\n",
       "      <td>0.000000</td>\n",
       "      <td>1121.873900</td>\n",
       "    </tr>\n",
       "    <tr>\n",
       "      <th>25%</th>\n",
       "      <td>27.000000</td>\n",
       "      <td>26.296250</td>\n",
       "      <td>0.000000</td>\n",
       "      <td>4740.287150</td>\n",
       "    </tr>\n",
       "    <tr>\n",
       "      <th>50%</th>\n",
       "      <td>39.000000</td>\n",
       "      <td>30.400000</td>\n",
       "      <td>1.000000</td>\n",
       "      <td>9382.033000</td>\n",
       "    </tr>\n",
       "    <tr>\n",
       "      <th>75%</th>\n",
       "      <td>51.000000</td>\n",
       "      <td>34.693750</td>\n",
       "      <td>2.000000</td>\n",
       "      <td>16639.912515</td>\n",
       "    </tr>\n",
       "    <tr>\n",
       "      <th>max</th>\n",
       "      <td>64.000000</td>\n",
       "      <td>53.130000</td>\n",
       "      <td>5.000000</td>\n",
       "      <td>63770.428010</td>\n",
       "    </tr>\n",
       "  </tbody>\n",
       "</table>\n",
       "</div>"
      ],
      "text/plain": [
       "               age          bmi     children       charges\n",
       "count  1338.000000  1338.000000  1338.000000   1338.000000\n",
       "mean     39.207025    30.663397     1.094918  13270.422265\n",
       "std      14.049960     6.098187     1.205493  12110.011237\n",
       "min      18.000000    15.960000     0.000000   1121.873900\n",
       "25%      27.000000    26.296250     0.000000   4740.287150\n",
       "50%      39.000000    30.400000     1.000000   9382.033000\n",
       "75%      51.000000    34.693750     2.000000  16639.912515\n",
       "max      64.000000    53.130000     5.000000  63770.428010"
      ]
     },
     "execution_count": 145,
     "metadata": {},
     "output_type": "execute_result"
    }
   ],
   "source": [
    "data.describe()"
   ]
  },
  {
   "cell_type": "markdown",
   "id": "6768f409",
   "metadata": {},
   "source": [
    "determining the correlation between variables\n",
    "1. positive correlation (one variable increses another also increses)\n",
    "2. negitive correlation(opposite of above)"
   ]
  },
  {
   "cell_type": "code",
   "execution_count": 146,
   "id": "f056df8b",
   "metadata": {},
   "outputs": [],
   "source": [
    "correlation = data.corr()"
   ]
  },
  {
   "cell_type": "code",
   "execution_count": 147,
   "id": "c5119e1e",
   "metadata": {},
   "outputs": [
    {
     "data": {
      "text/plain": [
       "<AxesSubplot:>"
      ]
     },
     "execution_count": 147,
     "metadata": {},
     "output_type": "execute_result"
    },
    {
     "data": {
      "image/png": "[encoded data removed]",
      "text/plain": [
       "<Figure size 720x720 with 2 Axes>"
      ]
     },
     "metadata": {
      "needs_background": "light"
     },
     "output_type": "display_data"
    }
   ],
   "source": [
    "#constucting the heat map for understanding correlation\n",
    "plt.figure(figsize = (10,10))\n",
    "sns.heatmap(correlation,cbar = True,square = True,fmt = '.1f',annot = True,annot_kws = {'size':8},cmap = 'Blues')"
   ]
  },
  {
   "cell_type": "code",
   "execution_count": 148,
   "id": "d7da4737",
   "metadata": {},
   "outputs": [],
   "source": [
    "from sklearn.model_selection import train_test_split\n",
    "from sklearn.linear_model import LinearRegression"
   ]
  },
  {
   "cell_type": "code",
   "execution_count": 155,
   "id": "2a7cda35",
   "metadata": {},
   "outputs": [],
   "source": [
    "#splitting the data and the target\n",
    "\n",
    "data.replace({'sex':{'male':0,'female':1}},inplace = True)\n",
    "data.replace({'smoker':{'yes':0,'no':1}},inplace = True)\n",
    "data.replace({'region':{'southeast':0,'southwest':1,'northeast':2,'northwest':3}},inplace = True)\n"
   ]
  },
  {
   "cell_type": "code",
   "execution_count": 156,
   "id": "e67e4989",
   "metadata": {},
   "outputs": [],
   "source": [
    "x = data.drop(['charges'],axis = 1)\n",
    "y = data['charges']"
   ]
  },
  {
   "cell_type": "code",
   "execution_count": null,
   "id": "2437ee53",
   "metadata": {},
   "outputs": [],
   "source": []
  },
  {
   "cell_type": "code",
   "execution_count": 157,
   "id": "34d8b714",
   "metadata": {},
   "outputs": [],
   "source": [
    "#splitting the data into training data and test data\n",
    "x_train,x_test,y_train,y_test = train_test_split(x,y,test_size = 0.3,random_state = 2)"
   ]
  },
  {
   "cell_type": "code",
   "execution_count": 158,
   "id": "d2344637",
   "metadata": {},
   "outputs": [
    {
     "name": "stdout",
     "output_type": "stream",
     "text": [
      "(1338, 6) (936, 6) (402, 6)\n"
     ]
    }
   ],
   "source": [
    "print(x.shape,x_train.shape,x_test.shape)"
   ]
  },
  {
   "cell_type": "code",
   "execution_count": 159,
   "id": "cb29d839",
   "metadata": {},
   "outputs": [],
   "source": [
    "#model training \n",
    "model = LinearRegression()"
   ]
  },
  {
   "cell_type": "code",
   "execution_count": 160,
   "id": "738acf26",
   "metadata": {},
   "outputs": [
    {
     "data": {
      "text/html": [
       "<style>#sk-container-id-5 {color: black;background-color: white;}#sk-container-id-5 pre{padding: 0;}#sk-container-id-5 div.sk-toggleable {background-color: white;}#sk-container-id-5 label.sk-toggleable__label {cursor: pointer;display: block;width: 100%;margin-bottom: 0;padding: 0.3em;box-sizing: border-box;text-align: center;}#sk-container-id-5 label.sk-toggleable__label-arrow:before {content: \"▸\";float: left;margin-right: 0.25em;color: #696969;}#sk-container-id-5 label.sk-toggleable__label-arrow:hover:before {color: black;}#sk-container-id-5 div.sk-estimator:hover label.sk-toggleable__label-arrow:before {color: black;}#sk-container-id-5 div.sk-toggleable__content {max-height: 0;max-width: 0;overflow: hidden;text-align: left;background-color: #f0f8ff;}#sk-container-id-5 div.sk-toggleable__content pre {margin: 0.2em;color: black;border-radius: 0.25em;background-color: #f0f8ff;}#sk-container-id-5 input.sk-toggleable__control:checked~div.sk-toggleable__content {max-height: 200px;max-width: 100%;overflow: auto;}#sk-container-id-5 input.sk-toggleable__control:checked~label.sk-toggleable__label-arrow:before {content: \"▾\";}#sk-container-id-5 div.sk-estimator input.sk-toggleable__control:checked~label.sk-toggleable__label {background-color: #d4ebff;}#sk-container-id-5 div.sk-label input.sk-toggleable__control:checked~label.sk-toggleable__label {background-color: #d4ebff;}#sk-container-id-5 input.sk-hidden--visually {border: 0;clip: rect(1px 1px 1px 1px);clip: rect(1px, 1px, 1px, 1px);height: 1px;margin: -1px;overflow: hidden;padding: 0;position: absolute;width: 1px;}#sk-container-id-5 div.sk-estimator {font-family: monospace;background-color: #f0f8ff;border: 1px dotted black;border-radius: 0.25em;box-sizing: border-box;margin-bottom: 0.5em;}#sk-container-id-5 div.sk-estimator:hover {background-color: #d4ebff;}#sk-container-id-5 div.sk-parallel-item::after {content: \"\";width: 100%;border-bottom: 1px solid gray;flex-grow: 1;}#sk-container-id-5 div.sk-label:hover label.sk-toggleable__label {background-color: #d4ebff;}#sk-container-id-5 div.sk-serial::before {content: \"\";position: absolute;border-left: 1px solid gray;box-sizing: border-box;top: 0;bottom: 0;left: 50%;z-index: 0;}#sk-container-id-5 div.sk-serial {display: flex;flex-direction: column;align-items: center;background-color: white;padding-right: 0.2em;padding-left: 0.2em;position: relative;}#sk-container-id-5 div.sk-item {position: relative;z-index: 1;}#sk-container-id-5 div.sk-parallel {display: flex;align-items: stretch;justify-content: center;background-color: white;position: relative;}#sk-container-id-5 div.sk-item::before, #sk-container-id-5 div.sk-parallel-item::before {content: \"\";position: absolute;border-left: 1px solid gray;box-sizing: border-box;top: 0;bottom: 0;left: 50%;z-index: -1;}#sk-container-id-5 div.sk-parallel-item {display: flex;flex-direction: column;z-index: 1;position: relative;background-color: white;}#sk-container-id-5 div.sk-parallel-item:first-child::after {align-self: flex-end;width: 50%;}#sk-container-id-5 div.sk-parallel-item:last-child::after {align-self: flex-start;width: 50%;}#sk-container-id-5 div.sk-parallel-item:only-child::after {width: 0;}#sk-container-id-5 div.sk-dashed-wrapped {border: 1px dashed gray;margin: 0 0.4em 0.5em 0.4em;box-sizing: border-box;padding-bottom: 0.4em;background-color: white;}#sk-container-id-5 div.sk-label label {font-family: monospace;font-weight: bold;display: inline-block;line-height: 1.2em;}#sk-container-id-5 div.sk-label-container {text-align: center;}#sk-container-id-5 div.sk-container {/* jupyter's `normalize.less` sets `[hidden] { display: none; }` but bootstrap.min.css set `[hidden] { display: none !important; }` so we also need the `!important` here to be able to override the default hidden behavior on the sphinx rendered scikit-learn.org. See: https://github.com/scikit-learn/scikit-learn/issues/21755 */display: inline-block !important;position: relative;}#sk-container-id-5 div.sk-text-repr-fallback {display: none;}</style><div id=\"sk-container-id-5\" class=\"sk-top-container\"><div class=\"sk-text-repr-fallback\"><pre>LinearRegression()</pre><b>In a Jupyter environment, please rerun this cell to show the HTML representation or trust the notebook. <br />On GitHub, the HTML representation is unable to render, please try loading this page with nbviewer.org.</b></div><div class=\"sk-container\" hidden><div class=\"sk-item\"><div class=\"sk-estimator sk-toggleable\"><input class=\"sk-toggleable__control sk-hidden--visually\" id=\"sk-estimator-id-5\" type=\"checkbox\" checked><label for=\"sk-estimator-id-5\" class=\"sk-toggleable__label sk-toggleable__label-arrow\">LinearRegression</label><div class=\"sk-toggleable__content\"><pre>LinearRegression()</pre></div></div></div></div></div>"
      ],
      "text/plain": [
       "LinearRegression()"
      ]
     },
     "execution_count": 160,
     "metadata": {},
     "output_type": "execute_result"
    }
   ],
   "source": [
    "#training the data\n",
    "model.fit(x_train,y_train)"
   ]
  },
  {
   "cell_type": "code",
   "execution_count": 161,
   "id": "c8fca4a3",
   "metadata": {},
   "outputs": [],
   "source": [
    "#prediction on training data\n",
    "training_data_prediction = model.predict(x_train)"
   ]
  },
  {
   "cell_type": "code",
   "execution_count": 162,
   "id": "55345ea9",
   "metadata": {},
   "outputs": [
    {
     "data": {
      "text/plain": [
       "array([ 8.25871144e+03,  6.20575896e+03,  3.07311610e+04,  3.28118009e+03,\n",
       "        5.75153533e+03,  1.08958811e+04,  3.60744496e+04,  1.14542146e+04,\n",
       "        2.08693227e+03,  1.28951814e+04,  2.65669808e+03,  1.57199296e+04,\n",
       "        4.03003158e+03,  7.58330247e+03,  9.91171939e+03,  1.50270643e+04,\n",
       "        9.30462690e+03,  1.21839447e+04,  3.05153671e+04,  7.16198717e+03,\n",
       "        2.67313896e+04,  1.35106893e+04,  1.11341576e+04,  1.64502213e+03,\n",
       "        3.32286112e+04, -1.30105642e+03,  6.04149836e+03,  9.63453913e+03,\n",
       "        2.68619387e+04,  2.74210337e+04,  1.17154760e+04,  7.07547757e+03,\n",
       "        2.94334506e+04,  1.34940612e+04,  2.58827937e+03,  3.92976574e+03,\n",
       "        4.02778529e+04,  7.84019795e+03,  1.10761537e+04,  4.14751513e+03,\n",
       "        4.41105739e+03,  8.93233441e+03,  3.46487955e+04,  4.12187134e+03,\n",
       "        8.26493935e+03,  2.19778450e+03,  3.60760031e+04,  3.75844069e+02,\n",
       "        3.52371018e+03,  1.41869185e+04,  7.74999740e+03,  5.41546285e+03,\n",
       "        6.79329821e+03,  1.68963518e+04, -8.36860746e+02,  6.00568730e+03,\n",
       "        3.85469923e+04,  3.67912406e+04,  2.71732651e+04,  2.44751350e+04,\n",
       "        1.26534789e+04,  5.52777742e+03,  1.32095058e+04,  1.07273489e+04,\n",
       "        9.36585164e+03,  1.21282474e+04,  3.08757313e+04,  3.05844516e+04,\n",
       "        2.96080664e+04,  3.33677744e+04,  4.68863170e+03,  1.70081891e+04,\n",
       "        1.36590885e+04,  8.08528272e+03,  3.95838285e+03,  5.97349748e+03,\n",
       "        3.54304800e+03,  3.87123870e+04,  6.14687512e+03,  6.07899305e+03,\n",
       "        8.20433986e+03,  3.22970171e+04,  5.04220398e+03,  1.04153915e+04,\n",
       "        7.73481590e+02,  1.09643690e+04,  1.28524733e+04,  1.07520099e+04,\n",
       "        1.07697157e+04,  9.03127469e+03,  3.09971432e+02,  2.88346119e+04,\n",
       "        1.53637852e+04,  5.81760507e+03,  2.63332473e+04,  1.18974069e+04,\n",
       "        1.53145144e+04,  9.31890611e+03,  3.22450079e+03,  2.87859835e+04,\n",
       "        2.68422772e+04,  7.38700094e+03,  1.11383439e+04,  1.57087533e+04,\n",
       "        1.36256945e+04,  8.67218239e+03,  1.06968516e+04,  6.03105664e+03,\n",
       "        5.13348947e+03,  7.65104648e+03,  7.98117216e+03,  2.26867847e+04,\n",
       "        1.36674551e+01,  4.18491597e+03,  7.43723588e+03,  3.49903710e+04,\n",
       "        1.22220547e+04,  2.99835555e+04,  8.53685304e+02,  1.31075231e+03,\n",
       "        1.52015332e+04,  1.08539346e+04,  2.30214446e+03,  5.93655836e+03,\n",
       "        4.47136786e+03,  8.43220813e+03,  1.44287397e+04,  8.92319915e+03,\n",
       "        3.32248476e+03,  3.68970863e+04,  7.04095661e+03,  8.35843098e+03,\n",
       "        5.49007765e+03,  3.50545763e+04,  9.81330719e+03,  4.97690309e+03,\n",
       "        1.22163641e+04,  7.89471379e+03,  1.48011610e+04,  3.35050404e+04,\n",
       "        1.10513813e+04,  2.59803005e+03,  3.54126615e+04,  7.39886906e+03,\n",
       "        3.08033809e+04,  3.11399739e+04,  5.19114987e+03,  3.88546348e+04,\n",
       "        1.41515837e+04,  7.31324901e+03,  1.43268827e+03,  5.30900977e+03,\n",
       "        1.48595737e+04,  1.32878021e+04,  5.72178976e+03,  2.65097607e+04,\n",
       "        8.89831632e+03,  9.29615169e+03,  1.03832314e+03,  7.09114015e+03,\n",
       "        6.60897645e+03,  1.43803145e+04,  3.93605202e+04,  1.45987487e+04,\n",
       "        3.36057413e+04,  1.24825368e+04,  3.20213857e+03,  8.87700563e+03,\n",
       "        1.38078130e+04,  1.14759953e+04,  1.21586683e+04,  4.48001570e+03,\n",
       "        9.19492801e+03,  6.40381233e+03,  1.02040238e+04,  3.34748078e+04,\n",
       "        1.20855058e+04,  1.52847278e+04,  1.13893587e+04,  3.25625393e+03,\n",
       "        3.88203697e+04,  3.23936102e+04,  9.57268125e+03,  3.07222955e+03,\n",
       "        1.47466783e+04,  9.44473865e+03,  1.52973648e+04,  5.58058591e+03,\n",
       "        1.28896015e+04,  1.92270712e+03,  9.96560265e+03,  3.43081889e+03,\n",
       "        6.84738818e+03,  3.10615757e+04,  3.44398636e+02,  5.65731856e+03,\n",
       "        2.90773215e+03,  1.12060791e+04,  1.59977929e+04,  1.11657391e+04,\n",
       "        1.21297519e+04,  6.05761519e+03,  6.93647752e+03,  7.20146341e+03,\n",
       "        2.22766634e+03,  3.13865216e+04,  2.89320930e+04,  1.56211233e+04,\n",
       "        4.13295539e+03,  9.65010681e+03,  7.80476980e+03,  3.05785132e+04,\n",
       "        2.84905265e+04,  2.82661524e+03,  1.17806736e+04,  1.92301598e+04,\n",
       "        1.19652013e+04,  2.63753064e+04,  1.47890025e+04,  6.52249304e+03,\n",
       "        4.05781900e+03,  1.05007722e+04,  3.94316336e+03,  3.50110586e+04,\n",
       "        1.16219955e+04,  6.25796757e+03,  3.50270704e+04,  5.62632697e+03,\n",
       "        2.52881485e+03,  6.71066821e+03,  1.47347080e+04,  6.08676168e+03,\n",
       "        5.29938886e+03,  3.16662575e+04,  2.51779480e+04,  7.51666246e+02,\n",
       "        1.09504055e+04,  9.71263979e+03,  1.12474961e+04,  3.44854939e+03,\n",
       "        1.13734147e+04,  9.68046689e+03,  2.86997905e+04,  2.47278167e+04,\n",
       "        1.47971620e+04,  1.42555076e+04,  3.15160118e+04,  5.70006874e+03,\n",
       "        8.95626712e+03,  3.55084152e+04,  2.81444298e+04,  1.08651877e+04,\n",
       "        3.31045053e+04,  1.00396956e+04,  8.13157146e+03,  4.67005494e+03,\n",
       "        2.76617451e+04,  6.91428583e+03,  1.25135123e+04,  1.60885484e+04,\n",
       "        3.63702993e+04,  3.11452293e+04,  2.60953061e+03,  5.35749384e+03,\n",
       "        7.89616637e+03,  1.13648859e+04,  7.05251662e+03,  1.17239609e+04,\n",
       "        3.50178773e+04,  1.25842057e+04,  1.20907005e+04,  4.31794444e+03,\n",
       "        5.66810206e+03,  1.39525051e+04,  1.14990591e+04,  3.32593834e+03,\n",
       "        4.93807593e+03,  1.05199549e+04,  8.05337686e+03,  1.39647318e+04,\n",
       "        6.84226076e+03,  1.94147166e+03,  6.24345019e+03,  3.10552114e+03,\n",
       "        2.96539341e+04,  9.01333838e+03,  1.11877593e+04,  2.98435372e+03,\n",
       "        8.88816539e+03,  9.35303437e+03,  1.58260908e+04,  1.63107675e+04,\n",
       "        5.48534349e+03,  1.15445523e+04,  1.09841159e+04,  3.94262659e+04,\n",
       "        9.82085269e+03,  1.03925160e+04,  4.31280066e+03,  7.81440940e+03,\n",
       "        1.55515934e+04,  4.67678002e+03,  5.84708399e+03,  1.11814773e+04,\n",
       "       -6.08139763e+02,  3.01350744e+04,  3.35188805e+03,  9.42873438e+03,\n",
       "        1.30335321e+04,  1.42217976e+04,  7.85529740e+03,  1.21751684e+04,\n",
       "        3.93521642e+04,  1.03223115e+04,  1.47797132e+04,  1.01082688e+04,\n",
       "        9.93608950e+03,  2.82487975e+03,  1.17840235e+04,  6.38351709e+02,\n",
       "       -3.49790122e+01,  3.46336462e+04,  2.41318340e+04,  9.73541145e+03,\n",
       "        1.00371323e+04,  7.96282633e+03,  2.40987042e+03,  5.20894892e+03,\n",
       "        1.51151795e+04,  7.80661638e+03,  1.60977693e+04,  1.41789789e+04,\n",
       "        1.50329682e+04,  2.25824070e+03,  1.21467904e+04,  3.63082014e+03,\n",
       "        7.44598553e+03,  3.89885092e+04,  1.02286773e+04,  9.31209539e+03,\n",
       "        4.51570025e+03,  3.19434365e+04,  3.21552496e+04,  6.52740619e+03,\n",
       "        9.11868155e+03,  1.22403141e+04,  5.39078543e+03,  4.37980940e+03,\n",
       "        1.12439753e+04,  2.98117253e+04,  3.47618368e+04,  9.42116229e+03,\n",
       "        5.15570531e+03,  1.08395533e+04,  1.15788010e+04,  3.72488554e+04,\n",
       "        1.78230539e+03,  1.18023782e+04,  1.21188829e+04,  3.82145256e+04,\n",
       "        4.24024434e+03,  1.00739527e+04,  2.70884472e+04,  3.76537826e+04,\n",
       "        3.77120561e+03,  5.64607480e+03,  1.45095834e+04,  1.42608317e+04,\n",
       "        6.86612678e+03,  2.43411262e+03,  3.02039385e+04,  9.99822752e+03,\n",
       "        8.81155073e+03,  7.75159571e+03,  1.28501323e+04,  2.56857132e+04,\n",
       "        1.05436681e+04,  5.37232852e+03,  1.05769065e+04,  1.09730589e+04,\n",
       "        5.31630732e+03,  1.08539939e+04,  9.92539894e+03,  3.32252539e+04,\n",
       "        1.46929566e+04,  1.50251406e+04,  1.42516884e+04,  7.88183635e+03,\n",
       "        6.72525527e+03,  6.42760247e+03,  1.26003724e+04,  1.21892411e+04,\n",
       "        5.63972509e+03,  9.21891349e+03,  1.52276552e+04,  2.55002969e+04,\n",
       "        3.29249248e+04,  3.44746246e+04,  4.27059597e+03,  8.67724956e+03,\n",
       "        1.13197602e+04,  2.78692838e+04,  4.49383367e+03,  8.13053676e+03,\n",
       "        5.32510983e+03,  3.94051379e+03,  5.74846737e+03,  3.54933167e+04,\n",
       "        2.94950338e+04,  9.79323570e+03,  1.18188610e+04,  1.07893425e+04,\n",
       "        5.60029829e+03,  8.88326915e+03,  1.65331676e+04,  7.04733121e+03,\n",
       "        3.36359309e+04,  5.35124804e+03,  9.12733615e+03,  8.89723170e+03,\n",
       "        1.07737999e+04,  4.48790217e+03,  4.03444017e+03,  1.13381070e+04,\n",
       "        9.01865406e+03,  1.04723854e+04,  6.66271579e+03,  3.15786713e+04,\n",
       "        1.13740463e+04,  1.03362386e+04,  2.84007267e+04,  1.34473448e+04,\n",
       "        2.95735437e+04,  1.33617257e+04,  1.17582101e+04,  3.91176829e+04,\n",
       "        3.28302136e+04,  5.35442726e+03,  1.51145554e+04,  3.13409349e+04,\n",
       "        3.63632584e+04,  3.85635639e+03,  9.79655950e+03,  1.18448906e+04,\n",
       "        5.88211075e+03,  3.09032372e+04, -4.33121281e+02,  1.41959320e+04,\n",
       "        7.07793955e+03,  1.58313627e+04,  9.91670157e+03,  1.12236563e+04,\n",
       "        3.42080490e+04,  9.05907276e+03,  1.75521787e+03,  3.28850373e+04,\n",
       "        3.03471602e+04,  4.33835859e+03,  3.16895098e+03,  1.52339101e+04,\n",
       "        9.31510270e+03,  1.51782998e+04,  1.05536910e+04,  9.77016352e+03,\n",
       "        2.67337815e+04,  1.23879633e+02,  2.29183098e+04,  1.23451788e+04,\n",
       "        7.91753861e+03,  3.61538559e+04,  3.78777011e+04,  8.53847375e+02,\n",
       "        1.10606022e+04,  1.32412338e+04,  1.61901570e+04,  1.10834927e+04,\n",
       "        1.91960227e+01,  2.73127434e+04,  7.14268422e+03,  1.07251530e+04,\n",
       "        1.41451852e+04,  2.97612253e+04,  8.47468516e+03,  1.28230537e+04,\n",
       "        3.40161719e+04,  1.25182723e+04,  1.30849468e+04,  1.31153117e+03,\n",
       "        1.06507015e+04,  1.09714355e+04,  3.98673379e+04,  9.02768612e+03,\n",
       "        6.58116244e+03,  5.79532841e+03,  3.75817402e+04,  6.96712750e+03,\n",
       "        4.42463610e+03,  7.78251981e+03,  1.25755494e+04,  1.18821276e+04,\n",
       "        1.50208167e+04,  6.00313245e+03,  3.30465617e+04,  5.35685379e+03,\n",
       "        1.28303499e+04,  9.19800427e+03,  3.86512309e+04,  8.04279796e+03,\n",
       "        1.89415816e+03,  1.18441805e+04,  3.50820752e+04,  3.10838257e+04,\n",
       "        2.84744528e+04,  7.44474698e+03,  8.73513376e+03,  3.36475107e+04,\n",
       "        1.02706483e+04,  8.73832069e+03,  8.50840213e+03,  1.32503924e+04,\n",
       "        1.83282081e+04,  8.84403801e+03,  3.33528028e+04,  1.02820990e+04,\n",
       "        6.96148785e+03,  1.21562927e+04,  6.95774608e+03,  1.49205930e+04,\n",
       "        8.28027047e+03,  4.54141089e+03,  4.96634183e+03,  1.53206327e+04,\n",
       "        2.89689042e+04,  6.14163662e+03,  4.29828288e+03,  1.50532619e+04,\n",
       "        1.09160805e+04,  4.16901439e+03,  1.31281414e+04,  4.70391095e+03,\n",
       "        3.43669150e+04,  2.75027744e+04,  4.78763363e+03,  1.11229115e+04,\n",
       "        8.78058337e+03,  1.27604277e+04,  1.33084993e+04,  9.45135184e+03,\n",
       "        6.44825570e+03,  3.88563836e+03,  3.65356956e+04,  3.42451594e+04,\n",
       "        1.05740197e+04,  3.51625941e+03,  2.76611549e+04,  3.17553046e+04,\n",
       "        4.71194200e+03,  1.20732356e+04,  4.36724885e+03,  6.82589786e+03,\n",
       "        9.92597980e+03,  9.97875422e+03,  1.21631630e+04,  4.13169943e+03,\n",
       "        6.81830145e+03,  4.94334811e+03,  5.50609185e+03,  9.88240936e+03,\n",
       "        9.46857849e+03,  1.45208273e+04,  2.79563136e+04,  3.10265486e+04,\n",
       "        1.23083415e+04,  4.03095324e+03,  1.07132252e+04,  3.07827543e+04,\n",
       "        1.04792469e+04,  7.69210637e+03,  6.00774666e+03,  1.24642083e+04,\n",
       "        1.03279254e+04,  2.57556707e+04,  6.41327953e+03,  8.25736944e+03,\n",
       "        5.78368124e+03,  3.13678686e+03,  3.33971264e+04,  4.02815616e+04,\n",
       "        2.97968836e+04,  7.10767486e+03,  2.90523038e+04,  5.49891375e+03,\n",
       "        2.97743334e+04,  1.38547853e+04,  2.50793140e+03,  1.62364611e+04,\n",
       "        3.46957859e+04,  1.26801569e+04,  1.68126922e+03,  1.13409004e+04,\n",
       "        1.55082806e+04,  2.46693265e+03,  6.83316046e+03,  7.35457133e+03,\n",
       "        3.62895821e+03,  1.42194481e+04,  1.17949274e+04,  7.17061737e+03,\n",
       "        1.05589813e+04,  7.07695634e+03,  8.25893368e+03,  9.52937590e+03,\n",
       "        3.51626819e+03,  7.23008889e+03, -6.20880022e+02,  3.11543389e+03,\n",
       "        4.06672276e+03,  1.20591710e+04,  5.44730951e+03,  4.06501305e+03,\n",
       "        9.28212897e+03,  1.20395692e+04,  1.52144368e+04,  7.13582269e+03,\n",
       "        1.38716006e+04,  1.71357760e+03,  9.86147510e+03,  1.14004003e+04,\n",
       "        2.97094258e+04,  3.81306499e+04,  1.07464216e+04,  8.79514539e+03,\n",
       "        1.25792580e+04,  1.61362552e+04,  3.57553303e+04,  8.42666143e+03,\n",
       "        2.99459890e+03,  2.18354970e+03,  6.74513087e+03,  9.89791931e+03,\n",
       "        4.59758339e+01,  6.53182338e+03,  2.52312070e+04,  1.39205119e+04,\n",
       "        5.98595678e+03,  5.49963106e+03,  1.34729372e+04,  3.64556855e+03,\n",
       "        2.69891656e+04,  2.58962092e+04,  1.03227303e+04,  3.59441992e+03,\n",
       "        1.76239612e+04,  8.63680783e+03,  2.64298387e+03,  9.92486030e+03,\n",
       "        1.52777032e+04,  6.06674021e+03,  6.43528313e+03,  8.07760173e+03,\n",
       "        1.52785320e+03,  1.69588161e+04,  6.19345384e+03,  5.15238989e+03,\n",
       "        1.08027667e+04,  3.09812273e+04,  1.10511352e+04, -6.26477138e+02,\n",
       "        5.30494256e+03,  7.08316041e+03,  1.84050109e+04,  9.18671619e+03,\n",
       "        1.70394634e+04,  1.34751000e+04,  7.98256449e+03,  1.49103319e+04,\n",
       "        4.91287614e+03,  3.30237717e+04,  7.80229228e+03,  3.16761517e+04,\n",
       "        3.13926902e+04,  9.54856737e+03,  7.68984191e+03,  2.53471121e+03,\n",
       "        3.04044020e+04,  5.83912149e+03,  8.18035438e+03,  6.16656247e+03,\n",
       "        1.14023395e+04,  9.17881208e+03,  7.31465101e+03,  8.21576479e+03,\n",
       "        2.98607637e+04,  2.53990606e+03,  6.48030736e+03,  8.79372656e+03,\n",
       "        2.00915508e+03,  1.64578310e+03,  3.52074124e+04,  7.32634819e+03,\n",
       "        1.04955333e+04,  3.02946596e+04,  3.35189857e+04,  1.31522128e+04,\n",
       "        8.35705443e+03,  9.24770039e+03,  8.92751332e+03,  1.06011740e+04,\n",
       "        2.64481675e+04,  3.62886180e+04,  1.11589974e+04,  1.38766165e+04,\n",
       "        1.38918958e+04,  3.88752970e+04,  2.72194254e+04,  9.37209776e+03,\n",
       "        5.14703323e+03,  9.12956825e+03,  2.31424850e+04,  1.12413788e+04,\n",
       "        3.76045208e+04,  1.31328838e+04,  1.13193769e+04,  3.24800423e+04,\n",
       "        7.20106236e+03,  1.31020964e+04,  3.92599901e+04,  2.60647831e+04,\n",
       "        1.42095709e+04,  8.70599467e+03,  4.29847104e+03,  7.69926675e+03,\n",
       "        4.37020435e+03,  1.20198811e+04,  1.67224539e+04,  2.63969163e+04,\n",
       "        9.48850475e+03,  5.26045852e+03,  6.35693525e+03,  3.27301864e+04,\n",
       "        1.08622575e+04,  5.23444708e+03,  6.02755355e+03,  9.33385097e+03,\n",
       "        2.41464115e+04,  1.02593690e+04,  9.61023708e+03,  2.65783588e+03,\n",
       "        1.06858631e+04,  2.39935003e+04,  1.16272411e+04,  3.45954676e+03,\n",
       "        1.41315982e+04,  1.22760323e+04,  2.76186873e+04,  2.95242818e+04,\n",
       "        4.52297001e+03, -1.43468102e+03,  1.42928921e+04,  1.34436447e+04,\n",
       "        1.05819238e+04,  1.03049489e+04,  1.41030838e+04,  8.11930040e+03,\n",
       "        4.96094143e+03,  1.14567877e+04,  1.55103481e+04,  2.81982095e+03,\n",
       "        2.55660234e+04,  5.63971646e+03,  1.39011244e+04,  3.02387525e+03,\n",
       "        1.22066392e+04,  6.05107714e+03,  1.21703309e+04,  1.42654624e+04,\n",
       "        4.62028233e+02,  5.95202399e+03,  7.31152408e+03,  4.18957419e+03,\n",
       "        5.56081229e+03,  2.77449809e+04,  1.15226594e+04,  7.54644931e+03,\n",
       "        3.80117380e+04,  2.52902961e+03,  1.15642647e+04,  1.22249929e+04,\n",
       "        4.04697493e+03,  5.99851806e+03,  1.68670521e+04,  3.74827897e+03,\n",
       "        3.24780856e+04,  1.28360506e+04,  2.83351035e+03,  9.53493057e+03,\n",
       "        4.63508835e+03,  6.15165955e+03,  1.30030600e+04,  5.23364326e+03,\n",
       "        8.78150649e+03,  9.62652345e+03,  4.74673668e+03,  1.39145486e+04,\n",
       "        1.58160600e+04,  7.14299933e+03,  1.14409187e+04,  1.07088929e+04,\n",
       "        6.00128587e+03,  6.33793115e+03,  3.16244885e+04,  1.04319259e+04,\n",
       "        2.30645725e+04,  1.07403038e+04,  1.22983435e+04,  5.10083125e+03,\n",
       "        1.10088783e+04,  1.06370724e+04,  3.30948670e+04,  1.34941797e+03,\n",
       "        2.50690600e+04,  3.22139788e+04,  2.94810111e+04,  3.08197190e+04,\n",
       "        7.47869506e+03,  9.77510268e+03,  4.59142505e+03,  7.57605582e+03,\n",
       "        1.74912414e+04,  1.26540434e+04,  2.07416583e+03,  2.57516965e+04,\n",
       "        6.46100474e+03,  5.29378280e+03,  1.50745136e+04,  1.10678909e+04,\n",
       "        8.48027204e+03,  2.89051088e+04,  1.07715268e+04,  2.86255104e+04,\n",
       "        7.40971225e+03,  3.88915878e+03,  2.94144885e+04,  1.55079463e+04,\n",
       "        2.96447936e+03,  1.20367486e+04,  3.14844981e+04,  7.34300286e+03,\n",
       "        3.34910082e+04,  7.54604638e+03,  6.76730555e+03,  1.28391273e+03,\n",
       "        1.08551392e+04,  8.29837617e+03,  1.02662641e+04,  1.64494786e+04,\n",
       "        1.30720445e+04,  9.11545079e+03,  4.69376661e+03,  1.06995021e+04,\n",
       "        3.16460933e+03,  5.21457093e+03,  2.68483703e+03,  3.24204587e+04,\n",
       "        6.05783645e+03,  9.48959164e+03,  6.94113427e+03,  2.99405304e+04,\n",
       "        1.19421990e+04,  3.95898054e+03,  4.63284193e+02,  3.03478863e+04,\n",
       "        1.23093929e+04,  1.27222566e+04,  5.67521113e+03,  9.69714814e+03,\n",
       "        3.08433127e+04,  2.08406963e+03,  8.58969128e+03,  1.43522530e+04,\n",
       "        7.34060910e+03,  1.32538620e+04,  1.04666174e+04,  1.25620314e+04,\n",
       "        3.45906730e+04,  1.44344550e+04,  9.82260412e+03,  6.27128892e+03,\n",
       "        1.22505677e+04,  2.82042459e+04,  1.08479873e+04,  4.62828805e+03,\n",
       "        5.89565451e+03,  1.88755343e+03,  5.97543828e+03,  2.34214171e+04,\n",
       "        3.54395862e+04,  1.41322125e+04,  8.83128857e+03,  3.50986042e+02,\n",
       "        7.73165076e+03,  9.66912873e+03,  1.25841498e+03,  2.72134486e+02,\n",
       "        4.89988005e+03,  3.33095396e+04,  1.18310201e+04,  9.18629740e+03,\n",
       "       -9.81800756e+02,  5.88389608e+03,  3.27750475e+03,  1.95967226e+03,\n",
       "        1.10834166e+04,  1.12452237e+04,  9.49566601e+03,  9.18782602e+03,\n",
       "        1.12827954e+04,  1.29600022e+04,  2.13622733e+03,  2.95252567e+04,\n",
       "        5.24211179e+03,  5.68610620e+03,  1.39106604e+04,  3.33900849e+04,\n",
       "        3.06828891e+04,  3.39655168e+04,  1.27878473e+04,  3.78538616e+04,\n",
       "        5.95645900e+03,  1.18638929e+04,  5.83300231e+03,  1.27868645e+04,\n",
       "        1.02702295e+04,  1.73059540e+04,  9.59629925e+03,  1.37342580e+04])"
      ]
     },
     "execution_count": 162,
     "metadata": {},
     "output_type": "execute_result"
    }
   ],
   "source": [
    "training_data_prediction"
   ]
  },
  {
   "cell_type": "code",
   "execution_count": 183,
   "id": "ab53ad87",
   "metadata": {},
   "outputs": [],
   "source": [
    "from sklearn import metrics\n",
    "\n"
   ]
  },
  {
   "cell_type": "code",
   "execution_count": 184,
   "id": "b073b87c",
   "metadata": {},
   "outputs": [],
   "source": [
    "# R square error\n",
    "score_1 = metrics.r2_score(ay_train,training_data_prediction)\n",
    "\n",
    "#mean absolute error\n",
    "score_2 = metrics.mean_absolute_error(y_train,training_data_prediction)"
   ]
  },
  {
   "cell_type": "code",
   "execution_count": 185,
   "id": "6d326d1a",
   "metadata": {},
   "outputs": [
    {
     "name": "stdout",
     "output_type": "stream",
     "text": [
      "0.7415730843556845\n",
      "4205.625865075326\n"
     ]
    }
   ],
   "source": [
    "print(score_1)\n",
    "print(score_2)"
   ]
  },
  {
   "cell_type": "code",
   "execution_count": 165,
   "id": "4004c437",
   "metadata": {},
   "outputs": [],
   "source": [
    "#predicting the test data\n",
    "test_data_prediction = model.predict(x_test)"
   ]
  },
  {
   "cell_type": "code",
   "execution_count": 166,
   "id": "b8e1310c",
   "metadata": {},
   "outputs": [
    {
     "data": {
      "text/plain": [
       "array([ 1.52905922e+03,  1.15159860e+04,  9.98088190e+03,  2.43337767e+03,\n",
       "        7.82749982e+03,  1.13068410e+04,  3.56733241e+03,  8.38406054e+02,\n",
       "        1.20405675e+04,  9.71096415e+03,  1.15267355e+04,  5.24083046e+03,\n",
       "        2.95044573e+04, -2.72741582e+02,  1.24804353e+04,  1.31986369e+04,\n",
       "        3.79276456e+03,  8.04235339e+03,  2.89684350e+04,  2.55075013e+03,\n",
       "        1.24126055e+04,  2.45265402e+03,  3.40989471e+04,  3.12610302e+04,\n",
       "        3.00321939e+04,  8.83745906e+03,  2.00362652e+03,  1.54516618e+04,\n",
       "        6.77893451e+03,  2.13838860e+03,  9.67775875e+03,  5.93455029e+03,\n",
       "        4.56081573e+03,  4.99101990e+03,  9.69182369e+03,  4.92893212e+03,\n",
       "        2.97023591e+04,  6.80259603e+03,  2.67463611e+04,  1.39207860e+04,\n",
       "        3.91617318e+02,  2.79941173e+04,  7.83934264e+03,  1.63742515e+03,\n",
       "        1.04625590e+04,  8.21348252e+03,  1.15589337e+04,  8.38217771e+03,\n",
       "        1.10339426e+04,  1.37618764e+04,  5.98252215e+03, -7.00825467e+02,\n",
       "        2.59455467e+04,  3.65091725e+04,  7.44628438e+03,  1.80500884e+04,\n",
       "        1.44202903e+03,  1.11672942e+04,  2.32446308e+03,  3.36256437e+04,\n",
       "        1.13746875e+04,  9.44338142e+02,  4.13628722e+03,  3.55122699e+04,\n",
       "       -1.00690484e+03,  1.38491457e+04,  1.47755783e+04,  3.66052268e+03,\n",
       "        1.28998284e+04,  1.12884351e+04,  1.15632309e+04,  1.62593097e+04,\n",
       "        1.00618877e+04,  1.00842665e+04,  1.50497766e+04,  1.24530401e+04,\n",
       "        4.63020129e+03,  3.73988045e+03,  5.48548953e+03,  1.31932274e+04,\n",
       "        8.99965882e+03,  1.18735325e+04,  9.90269730e+03,  2.73234339e+04,\n",
       "        1.26178298e+04,  4.03626005e+03,  3.79503429e+04,  1.09333764e+04,\n",
       "        7.90228515e+03,  1.13028514e+04,  1.09807062e+04,  1.50139389e+04,\n",
       "        1.11957218e+04,  1.30885093e+04,  5.47402117e+03,  2.54735171e+04,\n",
       "        5.17325738e+03,  1.06306034e+04,  2.71652968e+03,  2.85451111e+04,\n",
       "        6.68085612e+03,  3.65879753e+03,  2.70503652e+03,  1.60422434e+04,\n",
       "        7.89567196e+03,  1.00689370e+04,  9.97116667e+03,  5.21544298e+03,\n",
       "        1.48406470e+04,  3.32338144e+04,  4.09375043e+03,  1.14072087e+04,\n",
       "        2.41460282e+04,  1.49113222e+04,  1.90458255e+03,  1.01937690e+04,\n",
       "        9.32363100e+03,  6.32666958e+03,  1.17878684e+04,  2.84463062e+04,\n",
       "        6.45624399e+03,  7.22194571e+03,  1.60711513e+04,  1.62324449e+04,\n",
       "        8.60132024e+03,  2.58233452e+04,  3.45700455e+04,  1.19350635e+04,\n",
       "        8.08722232e+03,  9.68107417e+03,  8.38279980e+03,  2.99648003e+03,\n",
       "        3.56220481e+03,  4.76005917e+03,  8.41072489e+03,  8.14687493e+03,\n",
       "        7.22680088e+03,  2.85778047e+04,  3.47537271e+04,  4.13223743e+03,\n",
       "        2.75176950e+04,  4.36018141e+03,  6.76370763e+03,  1.34054930e+04,\n",
       "        8.06680108e+03,  3.61669046e+04,  1.18315089e+04,  1.12168121e+04,\n",
       "        8.25935157e+03,  5.97388411e+02,  6.69749265e+03,  7.44034679e+03,\n",
       "        4.96634183e+03,  1.15784504e+04,  1.14669562e+04,  1.55015629e+04,\n",
       "        5.87926543e+03,  2.71986784e+04,  1.99561133e+03,  1.14055172e+04,\n",
       "        1.69511334e+04,  1.39094212e+04,  9.50919343e+03,  2.37256244e+03,\n",
       "        4.53738589e+03,  9.07407610e+03,  1.92848739e+04,  2.76906438e+04,\n",
       "        1.24432396e+04,  3.11811706e+03,  3.20728249e+04,  1.31750697e+04,\n",
       "        3.24491005e+04,  3.37934986e+04,  1.11366084e+04,  7.60976579e+03,\n",
       "        2.66224446e+03,  2.55075013e+03,  1.17567492e+04,  8.03687573e+03,\n",
       "        2.97802311e+03,  1.18229766e+03,  3.12018318e+04,  7.21239393e+03,\n",
       "        5.82503981e+03,  2.68654606e+04,  6.69529780e+03,  2.84455009e+03,\n",
       "        8.11543868e+03,  3.48272911e+04,  7.97371107e+03,  4.54412781e+03,\n",
       "        9.64386947e+03,  2.64022128e+04,  5.81506746e+03,  3.97141787e+04,\n",
       "        3.68453639e+04,  1.29994882e+04,  2.63852522e+04,  1.18303636e+04,\n",
       "        3.71721902e+04,  7.32456286e+03,  4.27557913e+03,  2.10127815e+03,\n",
       "        1.40951442e+04,  1.38682180e+04,  2.23462270e+03,  3.51262096e+04,\n",
       "        1.28606768e+04,  8.72974945e+03,  1.23669445e+03,  3.02454923e+04,\n",
       "        3.47006411e+03,  3.38319736e+03,  1.24282680e+04,  1.49670862e+04,\n",
       "        2.92295083e+04, -2.16318782e+01,  3.46995376e+03,  8.44745201e+03,\n",
       "        3.92152478e+04,  8.12743570e+03,  3.46394474e+04,  2.68658613e+04,\n",
       "        1.36184572e+04,  2.85389919e+04,  1.67372372e+04,  7.69343756e+03,\n",
       "        1.63038466e+04,  7.33948244e+03,  1.01807552e+04,  3.78010929e+03,\n",
       "        8.93581092e+03,  1.91706747e+03,  3.23017421e+04,  3.16360591e+04,\n",
       "        1.48674960e+04,  1.16012391e+04,  1.07984396e+03,  6.31336352e+03,\n",
       "        1.12944758e+04,  4.41609186e+03,  1.10034011e+04,  1.04764626e+03,\n",
       "        3.42968133e+04,  3.18101704e+04,  1.04420675e+04,  2.59585260e+04,\n",
       "        1.27866521e+04,  1.79302027e+03,  1.12900935e+04,  2.61536689e+03,\n",
       "        7.69751403e+03,  1.07024324e+04,  1.71798810e+04,  5.93201268e+03,\n",
       "        1.08040315e+04, -5.03266606e+02, -2.37715258e+03,  2.01988012e+03,\n",
       "        2.73409598e+04,  3.34739702e+04,  3.68925654e+04, -1.57312698e+03,\n",
       "        1.56719586e+04,  3.62969409e+04,  1.30857503e+04,  3.35022288e+04,\n",
       "        5.71616126e+02,  9.36294713e+03,  1.31822301e+04,  1.17193156e+03,\n",
       "        1.08676823e+04,  3.83171940e+04,  8.35598673e+03,  1.19255533e+04,\n",
       "        9.50286176e+03,  3.21610854e+04,  9.93630337e+03,  3.06162646e+04,\n",
       "        3.28780084e+03,  6.34304971e+03,  1.88997996e+03,  5.61347515e+03,\n",
       "        3.88902754e+04,  2.53870672e+04,  3.44221318e+04,  1.11800850e+04,\n",
       "        1.36829638e+04,  1.83154692e+04,  6.01075357e+03,  7.29615856e+03,\n",
       "        1.15067154e+04,  1.43572777e+04,  3.62736835e+03,  2.72880056e+03,\n",
       "        9.17401879e+03,  8.36191635e+03,  1.01055856e+04,  8.45998629e+03,\n",
       "        3.02387525e+03,  9.54037287e+03,  2.95591278e+04,  6.11261836e+03,\n",
       "        3.96573139e+03,  3.25184502e+03,  1.06820182e+04,  1.10665228e+04,\n",
       "        3.81783215e+04,  8.34262276e+03,  1.33169324e+04,  1.19586829e+04,\n",
       "        9.67615175e+03,  1.55371883e+03,  2.86962697e+04,  1.36497588e+04,\n",
       "        1.28055623e+04,  1.66568380e+04,  1.07023039e+04,  1.04467345e+04,\n",
       "        1.38313456e+04,  2.74836862e+04,  1.39760036e+04,  5.56827144e+03,\n",
       "        5.46403279e+03,  9.45646252e+03,  7.21666467e+03,  1.08744590e+04,\n",
       "        7.03992152e+03,  4.65191483e+03,  1.59599397e+04,  2.52510319e+04,\n",
       "        5.69392476e+03,  1.72636298e+04,  7.68271390e+03,  3.58461825e+03,\n",
       "        2.71972506e+04,  3.19044631e+04,  1.10366167e+04,  5.56114579e+03,\n",
       "        1.30250981e+04,  3.10526884e+04,  1.37221613e+03,  1.04848193e+04,\n",
       "        3.39450520e+04,  1.10043083e+04,  5.14880222e+03,  2.97971825e+04,\n",
       "        8.47580346e+03,  1.28649228e+04,  1.02514649e+04,  7.95802425e+03,\n",
       "        5.26561944e+03,  1.01581717e+04,  3.83507009e+03,  8.27558745e+03,\n",
       "        8.98533806e+03,  7.63240285e+03,  3.32647142e+04,  4.17002339e+03,\n",
       "        1.54458000e+04,  1.31638940e+04,  1.08032471e+04,  9.58656817e+03,\n",
       "        3.88917718e+04,  1.39607243e+04,  3.65639194e+04,  1.46915731e+04,\n",
       "        2.47233290e+03,  3.13933325e+04,  9.50956830e+03,  8.03845623e+03,\n",
       "        7.23565292e+03,  2.65718209e+04,  3.66596731e+04,  7.90637040e+03,\n",
       "        1.05885112e+04,  4.00307512e+04,  3.65476358e+03,  1.54322217e+04,\n",
       "        3.30855767e+03,  2.91019327e+04,  8.38284265e+03,  1.70293116e+04,\n",
       "        1.44026000e+04,  2.87546573e+03,  3.60066197e+04,  1.11112564e+04,\n",
       "        2.20185202e+03,  1.22069469e+04,  5.82132244e+03,  1.54472086e+04,\n",
       "        3.07502388e+03,  3.60946066e+04,  6.40468446e+03,  8.51962972e+03,\n",
       "        7.86841213e+03,  3.64034769e+03,  1.15082440e+04,  3.37745476e+04,\n",
       "        3.60280322e+04,  7.10941035e+03])"
      ]
     },
     "execution_count": 166,
     "metadata": {},
     "output_type": "execute_result"
    }
   ],
   "source": [
    "test_data_prediction"
   ]
  },
  {
   "cell_type": "code",
   "execution_count": 167,
   "id": "4f7e0750",
   "metadata": {},
   "outputs": [],
   "source": [
    "# R square error\n",
    "score_1 = metrics.r2_score(y_test,test_data_prediction)\n",
    "\n",
    "#mean absolute error\n",
    "score_2 = metrics.mean_absolute_error(y_test,test_data_prediction)"
   ]
  },
  {
   "cell_type": "code",
   "execution_count": 168,
   "id": "1a04cf2f",
   "metadata": {},
   "outputs": [
    {
     "name": "stdout",
     "output_type": "stream",
     "text": [
      "0.766118606810119\n",
      "4251.180538000686\n"
     ]
    }
   ],
   "source": [
    "print(score_1)\n",
    "print(score_2)"
   ]
  },
  {
   "cell_type": "markdown",
   "id": "4029eea3",
   "metadata": {},
   "source": [
    "visualizing the actual prices and pedicted prices"
   ]
  },
  {
   "cell_type": "code",
   "execution_count": 190,
   "id": "12f75b10",
   "metadata": {},
   "outputs": [
    {
     "data": {
      "text/plain": [
       "Text(0.5, 1.0, 'Actual charges vs predicted charges')"
      ]
     },
     "execution_count": 190,
     "metadata": {},
     "output_type": "execute_result"
    },
    {
     "data": {
      "image/png": "[encoded data removed]",
      "text/plain": [
       "<Figure size 432x288 with 1 Axes>"
      ]
     },
     "metadata": {
      "needs_background": "light"
     },
     "output_type": "display_data"
    }
   ],
   "source": [
    "plt.scatter(y_train,training_data_prediction)\n",
    "plt.scatter(y_train,training_data_prediction,color = 'green')\n",
    "\n",
    "\n",
    "plt.xlabel(\"Actual charges\")\n",
    "plt.ylabel(\"predicted charges\")\n",
    "plt.title(\"Actual charges vs predicted charges\")"
   ]
  },
  {
   "cell_type": "code",
   "execution_count": 170,
   "id": "924004eb",
   "metadata": {},
   "outputs": [],
   "source": [
    "#training with another model\n",
    "from xgboost import XGBRegressor"
   ]
  },
  {
   "cell_type": "code",
   "execution_count": 171,
   "id": "31436154",
   "metadata": {},
   "outputs": [],
   "source": [
    "model_2 = XGBRegressor()"
   ]
  },
  {
   "cell_type": "code",
   "execution_count": 172,
   "id": "ad61430e",
   "metadata": {},
   "outputs": [
    {
     "data": {
      "text/html": [
       "<style>#sk-container-id-6 {color: black;background-color: white;}#sk-container-id-6 pre{padding: 0;}#sk-container-id-6 div.sk-toggleable {background-color: white;}#sk-container-id-6 label.sk-toggleable__label {cursor: pointer;display: block;width: 100%;margin-bottom: 0;padding: 0.3em;box-sizing: border-box;text-align: center;}#sk-container-id-6 label.sk-toggleable__label-arrow:before {content: \"▸\";float: left;margin-right: 0.25em;color: #696969;}#sk-container-id-6 label.sk-toggleable__label-arrow:hover:before {color: black;}#sk-container-id-6 div.sk-estimator:hover label.sk-toggleable__label-arrow:before {color: black;}#sk-container-id-6 div.sk-toggleable__content {max-height: 0;max-width: 0;overflow: hidden;text-align: left;background-color: #f0f8ff;}#sk-container-id-6 div.sk-toggleable__content pre {margin: 0.2em;color: black;border-radius: 0.25em;background-color: #f0f8ff;}#sk-container-id-6 input.sk-toggleable__control:checked~div.sk-toggleable__content {max-height: 200px;max-width: 100%;overflow: auto;}#sk-container-id-6 input.sk-toggleable__control:checked~label.sk-toggleable__label-arrow:before {content: \"▾\";}#sk-container-id-6 div.sk-estimator input.sk-toggleable__control:checked~label.sk-toggleable__label {background-color: #d4ebff;}#sk-container-id-6 div.sk-label input.sk-toggleable__control:checked~label.sk-toggleable__label {background-color: #d4ebff;}#sk-container-id-6 input.sk-hidden--visually {border: 0;clip: rect(1px 1px 1px 1px);clip: rect(1px, 1px, 1px, 1px);height: 1px;margin: -1px;overflow: hidden;padding: 0;position: absolute;width: 1px;}#sk-container-id-6 div.sk-estimator {font-family: monospace;background-color: #f0f8ff;border: 1px dotted black;border-radius: 0.25em;box-sizing: border-box;margin-bottom: 0.5em;}#sk-container-id-6 div.sk-estimator:hover {background-color: #d4ebff;}#sk-container-id-6 div.sk-parallel-item::after {content: \"\";width: 100%;border-bottom: 1px solid gray;flex-grow: 1;}#sk-container-id-6 div.sk-label:hover label.sk-toggleable__label {background-color: #d4ebff;}#sk-container-id-6 div.sk-serial::before {content: \"\";position: absolute;border-left: 1px solid gray;box-sizing: border-box;top: 0;bottom: 0;left: 50%;z-index: 0;}#sk-container-id-6 div.sk-serial {display: flex;flex-direction: column;align-items: center;background-color: white;padding-right: 0.2em;padding-left: 0.2em;position: relative;}#sk-container-id-6 div.sk-item {position: relative;z-index: 1;}#sk-container-id-6 div.sk-parallel {display: flex;align-items: stretch;justify-content: center;background-color: white;position: relative;}#sk-container-id-6 div.sk-item::before, #sk-container-id-6 div.sk-parallel-item::before {content: \"\";position: absolute;border-left: 1px solid gray;box-sizing: border-box;top: 0;bottom: 0;left: 50%;z-index: -1;}#sk-container-id-6 div.sk-parallel-item {display: flex;flex-direction: column;z-index: 1;position: relative;background-color: white;}#sk-container-id-6 div.sk-parallel-item:first-child::after {align-self: flex-end;width: 50%;}#sk-container-id-6 div.sk-parallel-item:last-child::after {align-self: flex-start;width: 50%;}#sk-container-id-6 div.sk-parallel-item:only-child::after {width: 0;}#sk-container-id-6 div.sk-dashed-wrapped {border: 1px dashed gray;margin: 0 0.4em 0.5em 0.4em;box-sizing: border-box;padding-bottom: 0.4em;background-color: white;}#sk-container-id-6 div.sk-label label {font-family: monospace;font-weight: bold;display: inline-block;line-height: 1.2em;}#sk-container-id-6 div.sk-label-container {text-align: center;}#sk-container-id-6 div.sk-container {/* jupyter's `normalize.less` sets `[hidden] { display: none; }` but bootstrap.min.css set `[hidden] { display: none !important; }` so we also need the `!important` here to be able to override the default hidden behavior on the sphinx rendered scikit-learn.org. See: https://github.com/scikit-learn/scikit-learn/issues/21755 */display: inline-block !important;position: relative;}#sk-container-id-6 div.sk-text-repr-fallback {display: none;}</style><div id=\"sk-container-id-6\" class=\"sk-top-container\"><div class=\"sk-text-repr-fallback\"><pre>XGBRegressor(base_score=0.5, booster=&#x27;gbtree&#x27;, callbacks=None,\n",
       "             colsample_bylevel=1, colsample_bynode=1, colsample_bytree=1,\n",
       "             early_stopping_rounds=None, enable_categorical=False,\n",
       "             eval_metric=None, gamma=0, gpu_id=-1, grow_policy=&#x27;depthwise&#x27;,\n",
       "             importance_type=None, interaction_constraints=&#x27;&#x27;,\n",
       "             learning_rate=0.300000012, max_bin=256, max_cat_to_onehot=4,\n",
       "             max_delta_step=0, max_depth=6, max_leaves=0, min_child_weight=1,\n",
       "             missing=nan, monotone_constraints=&#x27;()&#x27;, n_estimators=100, n_jobs=0,\n",
       "             num_parallel_tree=1, predictor=&#x27;auto&#x27;, random_state=0, reg_alpha=0,\n",
       "             reg_lambda=1, ...)</pre><b>In a Jupyter environment, please rerun this cell to show the HTML representation or trust the notebook. <br />On GitHub, the HTML representation is unable to render, please try loading this page with nbviewer.org.</b></div><div class=\"sk-container\" hidden><div class=\"sk-item\"><div class=\"sk-estimator sk-toggleable\"><input class=\"sk-toggleable__control sk-hidden--visually\" id=\"sk-estimator-id-6\" type=\"checkbox\" checked><label for=\"sk-estimator-id-6\" class=\"sk-toggleable__label sk-toggleable__label-arrow\">XGBRegressor</label><div class=\"sk-toggleable__content\"><pre>XGBRegressor(base_score=0.5, booster=&#x27;gbtree&#x27;, callbacks=None,\n",
       "             colsample_bylevel=1, colsample_bynode=1, colsample_bytree=1,\n",
       "             early_stopping_rounds=None, enable_categorical=False,\n",
       "             eval_metric=None, gamma=0, gpu_id=-1, grow_policy=&#x27;depthwise&#x27;,\n",
       "             importance_type=None, interaction_constraints=&#x27;&#x27;,\n",
       "             learning_rate=0.300000012, max_bin=256, max_cat_to_onehot=4,\n",
       "             max_delta_step=0, max_depth=6, max_leaves=0, min_child_weight=1,\n",
       "             missing=nan, monotone_constraints=&#x27;()&#x27;, n_estimators=100, n_jobs=0,\n",
       "             num_parallel_tree=1, predictor=&#x27;auto&#x27;, random_state=0, reg_alpha=0,\n",
       "             reg_lambda=1, ...)</pre></div></div></div></div></div>"
      ],
      "text/plain": [
       "XGBRegressor(base_score=0.5, booster='gbtree', callbacks=None,\n",
       "             colsample_bylevel=1, colsample_bynode=1, colsample_bytree=1,\n",
       "             early_stopping_rounds=None, enable_categorical=False,\n",
       "             eval_metric=None, gamma=0, gpu_id=-1, grow_policy='depthwise',\n",
       "             importance_type=None, interaction_constraints='',\n",
       "             learning_rate=0.300000012, max_bin=256, max_cat_to_onehot=4,\n",
       "             max_delta_step=0, max_depth=6, max_leaves=0, min_child_weight=1,\n",
       "             missing=nan, monotone_constraints='()', n_estimators=100, n_jobs=0,\n",
       "             num_parallel_tree=1, predictor='auto', random_state=0, reg_alpha=0,\n",
       "             reg_lambda=1, ...)"
      ]
     },
     "execution_count": 172,
     "metadata": {},
     "output_type": "execute_result"
    }
   ],
   "source": [
    "model_2.fit(x_train,y_train)"
   ]
  },
  {
   "cell_type": "code",
   "execution_count": 175,
   "id": "6c3a3cfb",
   "metadata": {},
   "outputs": [],
   "source": [
    "training_data_prediction_2 = model_2.predict(x_train)"
   ]
  },
  {
   "cell_type": "code",
   "execution_count": 177,
   "id": "03cb90ed",
   "metadata": {},
   "outputs": [],
   "source": [
    "# R square error\n",
    "score_11 = metrics.r2_score(y_train,training_data_prediction_2)\n",
    "\n",
    "#mean absolute error\n",
    "score_22 = metrics.mean_absolute_error(y_train,training_data_prediction_2)"
   ]
  },
  {
   "cell_type": "code",
   "execution_count": 178,
   "id": "d7212b59",
   "metadata": {},
   "outputs": [
    {
     "data": {
      "text/plain": [
       "0.9960808762932135"
      ]
     },
     "execution_count": 178,
     "metadata": {},
     "output_type": "execute_result"
    }
   ],
   "source": [
    "score_11"
   ]
  },
  {
   "cell_type": "code",
   "execution_count": 179,
   "id": "02b14b99",
   "metadata": {},
   "outputs": [
    {
     "data": {
      "text/plain": [
       "451.3254670992297"
      ]
     },
     "execution_count": 179,
     "metadata": {},
     "output_type": "execute_result"
    }
   ],
   "source": [
    "score_22"
   ]
  },
  {
   "cell_type": "code",
   "execution_count": 180,
   "id": "b27ae3c1",
   "metadata": {},
   "outputs": [
    {
     "data": {
      "text/plain": [
       "Text(0.5, 1.0, 'Actual charges vs predicted charges')"
      ]
     },
     "execution_count": 180,
     "metadata": {},
     "output_type": "execute_result"
    },
    {
     "data": {
      "image/png": "[encoded data removed]",
      "text/plain": [
       "<Figure size 432x288 with 1 Axes>"
      ]
     },
     "metadata": {
      "needs_background": "light"
     },
     "output_type": "display_data"
    }
   ],
   "source": [
    "plt.scatter(y_train,training_data_prediction_2)\n",
    "plt.xlabel(\"Actual charges\")\n",
    "plt.ylabel(\"predicted charges\")\n",
    "plt.title(\"Actual charges vs predicted charges\")"
   ]
  },
  {
   "cell_type": "markdown",
   "id": "507c60dd",
   "metadata": {},
   "source": [
    "# Therefore by cross validation xgb regressor made better prediction than Linear regression\n",
    "## Since dataset is small xgboost regressor is preffered"
   ]
  },
  {
   "cell_type": "code",
   "execution_count": null,
   "id": "3e235ea3",
   "metadata": {},
   "outputs": [],
   "source": []
  }
 ],
 "metadata": {
  "kernelspec": {
   "display_name": "Python 3 (ipykernel)",
   "language": "python",
   "name": "python3"
  },
  "language_info": {
   "codemirror_mode": {
    "name": "ipython",
    "version": 3
   },
   "file_extension": ".py",
   "mimetype": "text/x-python",
   "name": "python",
   "nbconvert_exporter": "python",
   "pygments_lexer": "ipython3",
   "version": "3.10.6"
  }
 },
 "nbformat": 4,
 "nbformat_minor": 5
}
